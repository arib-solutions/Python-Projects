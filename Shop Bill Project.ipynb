{
 "cells": [
  {
   "cell_type": "code",
   "execution_count": 40,
   "id": "7534ea87-0688-4480-b54c-edbdf8fa30a8",
   "metadata": {},
   "outputs": [
    {
     "name": "stdout",
     "output_type": "stream",
     "text": [
      "Welcome to our Canteen!\n",
      "\n",
      "  Item Names  Price\n",
      "                   \n",
      "1       Lays     50\n",
      "2       Coke     80\n",
      "3    Biscuit     40\n",
      "4  Chocolate     30\n",
      "5     Samosi     10\n"
     ]
    },
    {
     "name": "stdin",
     "output_type": "stream",
     "text": [
      "Enter the name of the item you want to buy(Lays/Coke etc): Coke\n"
     ]
    },
    {
     "name": "stdout",
     "output_type": "stream",
     "text": [
      "Coke\n",
      "\u001b[2;32m Your item 'Coke' is added in your bill\n"
     ]
    },
    {
     "name": "stdin",
     "output_type": "stream",
     "text": [
      "Do you want to buy another thing more? (yes/no) no\n"
     ]
    },
    {
     "name": "stdout",
     "output_type": "stream",
     "text": [
      "\u001b[2;32m Your Total Bill is = 80\n"
     ]
    }
   ],
   "source": [
    "import pandas as pd\n",
    "\n",
    "def table():\n",
    "    table = pd.DataFrame({\n",
    "        'Item Names': ['Lays','Coke','Biscuit','Chocolate','Samosi'],\n",
    "        'Price': [50,80,40,30,10],\n",
    "        ' ': [1,2,3,4,5]\n",
    "    })\n",
    "    ind = table.set_index(' ')\n",
    "    \n",
    "    print (\"Welcome to our Canteen!\\n\")\n",
    "    print(ind)\n",
    "table()\n",
    "\n",
    "\n",
    "def all_items():\n",
    "    total = 0\n",
    "    menu = {\"Lays\": 50, \"Coke\": 80, \"Biscuit\": 40, \"Chocolate\": 30, \"Samosi\": 10}\n",
    "    item_1 = input(\"Enter the name of the item you want to buy(Lays/Coke etc):\")\n",
    "    print(item_1)\n",
    "    if item_1 in menu :\n",
    "        total += menu[item_1]\n",
    "        print(f\"\\033[2;32m Your item '{item_1}' is added in your bill\")\n",
    "    else:\n",
    "        print (f\"\\033[2;31m Your '{item_1}' is not available in menu list\")\n",
    "    while 'a' !=0:\n",
    "        menu = {\"Lays\": 50, \"Coke\": 80, \"Biscuit\": 40, \"Chocolate\": 30, \"Samosi\": 10}\n",
    "        another = input(\"Do you want to buy another thing more? (yes/no)\")\n",
    "        if another == 'yes':\n",
    "            item_2 = input(\"Enter the name of other item:\")\n",
    "            if item_2 in menu :\n",
    "                total += menu[item_2]\n",
    "                print (f\"\\033[2;32m Your '{item_2}' is also added in your bill\")\n",
    "            else:\n",
    "                print (f\"\\033[2;31m Your '{item_2}' is not available in menu list\")\n",
    "        elif another == 'no':\n",
    "            break\n",
    "    print (f\"\\033[2;32m Your Total Bill is = {total}\")\n",
    "all_items()\n",
    "\n"
   ]
  },
  {
   "cell_type": "code",
   "execution_count": null,
   "id": "82d9d18d-1f8c-455a-ba7f-bd8c93b5a5cc",
   "metadata": {},
   "outputs": [],
   "source": []
  },
  {
   "cell_type": "code",
   "execution_count": null,
   "id": "171635d7-1028-471f-90ab-ccdca7674a33",
   "metadata": {},
   "outputs": [],
   "source": []
  }
 ],
 "metadata": {
  "kernelspec": {
   "display_name": "Python [conda env:base] *",
   "language": "python",
   "name": "conda-base-py"
  },
  "language_info": {
   "codemirror_mode": {
    "name": "ipython",
    "version": 3
   },
   "file_extension": ".py",
   "mimetype": "text/x-python",
   "name": "python",
   "nbconvert_exporter": "python",
   "pygments_lexer": "ipython3",
   "version": "3.12.7"
  }
 },
 "nbformat": 4,
 "nbformat_minor": 5
}
