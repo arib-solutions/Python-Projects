{
 "cells": [
  {
   "cell_type": "markdown",
   "id": "e4fc50d5-dbaf-4158-a1bd-0fea719eccb6",
   "metadata": {},
   "source": [
    "## Calculator"
   ]
  },
  {
   "cell_type": "code",
   "execution_count": 3,
   "id": "c3c7f126-8bd9-4da7-b71c-a89141784242",
   "metadata": {},
   "outputs": [
    {
     "name": "stdout",
     "output_type": "stream",
     "text": [
      "Welcome To Calculator!\n",
      "These are some operators to use for different purposes:\n",
      "+\n",
      "-\n",
      "x\n",
      "/\n",
      "%\n"
     ]
    },
    {
     "name": "stdin",
     "output_type": "stream",
     "text": [
      "Choose the operator: +\n",
      "Enter the number For Addition: 35\n",
      "Enter the other number For Addition: 2\n"
     ]
    },
    {
     "name": "stdout",
     "output_type": "stream",
     "text": [
      "37.0\n"
     ]
    },
    {
     "name": "stdin",
     "output_type": "stream",
     "text": [
      "Do you want to add other number for Addition (yes/no): yes\n",
      "Enter the other number to add: 50\n"
     ]
    },
    {
     "name": "stdout",
     "output_type": "stream",
     "text": [
      "87.0\n"
     ]
    },
    {
     "name": "stdin",
     "output_type": "stream",
     "text": [
      "Do you want to add other number for Addition (yes/no): no\n"
     ]
    },
    {
     "name": "stdout",
     "output_type": "stream",
     "text": [
      "7.0\n"
     ]
    },
    {
     "name": "stdout",
     "output_type": "stream",
     "text": [
      "Do you want to add other number for Addition (yes/no): yes\n",
      "Enter the other number to add: 8\n"
     ]
    },
    {
     "name": "stdout",
     "output_type": "stream",
     "text": [
      "15.0\n"
     ]
    }
   ],
   "source": [
    "def operators():\n",
    "    print(\"Welcome To Calculator!\")\n",
    "    print(\"These are some operators to use for different purposes:\")\n",
    "    print(\"+\\n-\\nx\\n/\\n%\")\n",
    "operators()\n",
    "\n",
    "operator = input(\"Choose the operator:\")\n",
    "\n",
    "if operator == \"+\":\n",
    "    def add():\n",
    "        a = float(input(\"Enter the number For Addition:\"))\n",
    "        b = float(input(\"Enter the other number For Addition:\"))\n",
    "        add = a + b\n",
    "        print(add)\n",
    "        while 'a' !=0:\n",
    "            add_more = input(\"Do you want to add other number for Addition (yes/no):\")\n",
    "            if add_more == 'yes':\n",
    "                c = float(input(\"Enter the other number to add:\"))\n",
    "                add += c\n",
    "                print(add)\n",
    "            elif add_more == 'no':\n",
    "                break\n",
    "            else:\n",
    "                print(\"Invalid Input\")\n",
    "    add()\n",
    "\n",
    "elif operator == \"-\":\n",
    "    def subtract():\n",
    "        a = float(input(\"Enter the number For Subtraction:\"))\n",
    "        b = float(input(\"Enter the other number For Subtraction:\"))\n",
    "        subtract = a - b\n",
    "        print(subtract)\n",
    "        while 'a' !=0:\n",
    "            subtract_more = input(\"Do you want to add other number for Subtraction (yes/no):\")\n",
    "            if subtract_more == 'yes':\n",
    "                c = float(input(\"Enter the other value to subtract:\"))\n",
    "                subtract -= c\n",
    "                print(subtract)\n",
    "            elif subtract_more == 'no':\n",
    "                break\n",
    "            else:\n",
    "                print(\"Invalid Input\")\n",
    "    subtract()\n",
    "\n",
    "elif operator == \"x\":\n",
    "    def multiply():\n",
    "        a = float(input(\"Enter the number For Multiplication:\"))\n",
    "        b = float(input(\"Enter the other number For Multiplication:\"))\n",
    "        multiply = a * b\n",
    "        print(multiply)\n",
    "        while 'a' !=0:\n",
    "            multiply_more = input(\"Do you want to add other number for Multiplication (yes/no):\")\n",
    "            if multiply_more == 'yes':\n",
    "                c = float(input(\"Enter the other number to multiply:\"))\n",
    "                multiply *= c\n",
    "                print(multiply)\n",
    "            elif multiply_more == 'no':\n",
    "                break\n",
    "            else:\n",
    "                print(\"Invalid Input\")\n",
    "    multiply()\n",
    "\n",
    "elif operator == \"/\":\n",
    "    def divide():\n",
    "        a = float(input(\"Enter the Numerator For Division:\"))\n",
    "        b = float(input(\"Enter the Denominator For Division:\"))\n",
    "        divide = a / b\n",
    "        print(divide)\n",
    "        while 'a' !=0:\n",
    "            divide_more = input(\"Do you want to add other number for Division (yes/no):\")\n",
    "            if divide_more == 'yes':\n",
    "                c = float(input(\"Enter the other Denominator For Division:\"))\n",
    "                divide /= c\n",
    "                print(divide)\n",
    "            elif divide_more == 'no':\n",
    "                break\n",
    "            else:\n",
    "                print(\"Invalid Input\")\n",
    "    divide()\n",
    "                \n",
    "elif operator == \"%\":\n",
    "    def modulus():\n",
    "        a = float(input(\"Enter Numerator For Find Remainder:\"))\n",
    "        b = float(input(\"Enter Denominator For Find Remainder:\"))\n",
    "        modulus = a % b\n",
    "        print(\"Remainder is:\",modulus)\n",
    "    modulus()\n",
    "\n",
    "else:\n",
    "    print(\"Invalid Input\")\n"
   ]
  },
  {
   "cell_type": "code",
   "execution_count": null,
   "id": "52577b44-f66b-411d-9a13-3e99a8f8800f",
   "metadata": {},
   "outputs": [],
   "source": []
  },
  {
   "cell_type": "code",
   "execution_count": null,
   "id": "c888d92a-57a8-48e0-8f62-dbbe8b9df289",
   "metadata": {},
   "outputs": [],
   "source": []
  }
 ],
 "metadata": {
  "kernelspec": {
   "display_name": "Python [conda env:base] *",
   "language": "python",
   "name": "conda-base-py"
  },
  "language_info": {
   "codemirror_mode": {
    "name": "ipython",
    "version": 3
   },
   "file_extension": ".py",
   "mimetype": "text/x-python",
   "name": "python",
   "nbconvert_exporter": "python",
   "pygments_lexer": "ipython3",
   "version": "3.12.7"
  }
 },
 "nbformat": 4,
 "nbformat_minor": 5
}
